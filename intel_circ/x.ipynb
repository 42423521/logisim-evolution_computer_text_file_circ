{
 "cells": [
  {
   "cell_type": "code",
   "execution_count": null,
   "metadata": {},
   "outputs": [],
   "source": [
    "public class Main {\n",
    "    import java.nio.file.*;\n",
    "\n",
    "public class CheckSetReadOnly {\n",
    "    public static void main(String[] args) {\n",
    "        Path path = Paths.get(\"path_to_your_file.xml\");\n",
    "\n",
    "        // 检查文件是否是只读的\n",
    "        if (Files.isReadOnly(path)) {\n",
    "            try {\n",
    "                // 更改文件的只读状态\n",
    "                Files.setReadOnly(path, false);\n",
    "                System.out.println(\"File is no longer read-only.\");\n",
    "            } catch (IOException e) {\n",
    "                System.err.println(\"Failed to change file's read-only status.\");\n",
    "                e.printStackTrace();\n",
    "            }\n",
    "        } else {\n",
    "            System.out.println(\"File is not read-only.\");\n",
    "        }\n",
    "    }\n",
    "}\n",
    "}\n"
   ]
  }
 ],
 "metadata": {
  "language_info": {
   "name": "python"
  },
  "orig_nbformat": 4
 },
 "nbformat": 4,
 "nbformat_minor": 2
}
